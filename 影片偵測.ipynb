{
 "cells": [
  {
   "cell_type": "code",
   "execution_count": null,
   "metadata": {},
   "outputs": [],
   "source": [
    "import cv2\n",
    "import numpy as np\n",
    "from keras.models import load_model\n",
    "\n",
    "# 載入模型\n",
    "model = load_model(r\"C:\\Users\\B00\\Desktop\\for project\\trainedModelforCNN\\theFirst\")\n",
    "\n",
    "# 讀取影片\n",
    "cap = cv2.VideoCapture(r\"C:\\Users\\B00\\Downloads\\20 min Abs Legs Standing Workout 2 Weeks Summer Challenge ~ Emi.mp4\")\n",
    "\n",
    "image_height = 192 \n",
    "image_width  = 192\n",
    "while(cap.isOpened()):\n",
    "    # 讀取一幀\n",
    "    ret, frame = cap.read()\n",
    "    if ret == True:\n",
    "        # 調整幀的大小並正規化\n",
    "        frame = cv2.resize(frame, (image_height, image_width))\n",
    "        frame = frame / 255.0\n",
    "\n",
    "        # 添加一個維度以匹配模型的輸入形狀\n",
    "        frame = np.expand_dims(frame, axis=0)\n",
    "\n",
    "        # 使用模型進行預測\n",
    "        prediction = model.predict(frame)\n",
    "\n",
    "        # 找出最可能的類別\n",
    "        class_index = np.argmax(prediction)\n",
    "\n",
    "        # 做出相應的處理，例如如果class_index表示\"跌倒\"，則發出警告\n",
    "        if class_index == 0:\n",
    "            print(\"站！！！\")\n",
    "        elif class_index == 1:\n",
    "            print(\"坐？？？\")\n",
    "        elif class_index == 2:\n",
    "            print(\"躺.....\")\n",
    "    else:\n",
    "        break\n",
    "\n",
    "# 釋放資源\n",
    "cap.release()\n",
    "cv2.destroyAllWindows()\n"
   ]
  }
 ],
 "metadata": {
  "kernelspec": {
   "display_name": "Python 3",
   "language": "python",
   "name": "python3"
  },
  "language_info": {
   "codemirror_mode": {
    "name": "ipython",
    "version": 3
   },
   "file_extension": ".py",
   "mimetype": "text/x-python",
   "name": "python",
   "nbconvert_exporter": "python",
   "pygments_lexer": "ipython3",
   "version": "3.8.3"
  }
 },
 "nbformat": 4,
 "nbformat_minor": 5
}
