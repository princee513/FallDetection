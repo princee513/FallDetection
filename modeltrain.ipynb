{
 "cells": [
  {
   "cell_type": "code",
   "execution_count": null,
   "metadata": {
    "collapsed": true
   },
   "outputs": [],
   "source": [
    "import cv2\n",
    "import numpy as np\n",
    "import os\n",
    "from sklearn.model_selection import train_test_split\n",
    "import tensorflow as tf\n",
    "from tensorflow.keras import layers\n",
    "\n",
    "# 定義圖像文件夾路徑\n",
    "image_folder = r'C:\\Users\\B00\\Desktop\\bodyImage\\forCNN'\n",
    "\n",
    "\n",
    "def preprocess_image(image):\n",
    "    # 調整圖像大小為指定尺寸\n",
    "    resized_image = cv2.resize(image, (192, 192))\n",
    "    # 正規化圖像像素值到 [0, 1] 範圍\n",
    "    normalized_image = resized_image / 255.0\n",
    "    return normalized_image\n",
    "\n",
    "image_height = 192\n",
    "image_width = 192\n",
    "# 初始化列表來存儲圖像數據和標籤\n",
    "images = []\n",
    "labels = []\n",
    "\n",
    "\n",
    "# 遍歷文件夾中的每張照片\n",
    "for label, class_name in enumerate(['stand', 'sit', 'lie']):\n",
    "    class_folder = os.path.join(image_folder, class_name)\n",
    "    for filename in os.listdir(class_folder):\n",
    "        if filename.endswith('.jpg') or filename.endswith('.png'):\n",
    "            # 讀取圖像\n",
    "            image_path = os.path.join(class_folder, filename)\n",
    "            image = cv2.imread(image_path)\n",
    "\n",
    "            # 對圖像進行預處理，例如調整大小、歸一化等\n",
    "            processed_image = preprocess_image(image)\n",
    "\n",
    "            # 將預處理後的圖像添加到列表中\n",
    "            images.append(processed_image)\n",
    "\n",
    "            # 添加對應的標籤\n",
    "            labels.append(label)\n",
    "\n",
    "# 將圖像列表轉換為numpy數組\n",
    "images = np.array(images)\n",
    "\n",
    "# 將標籤列表轉換為numpy數組\n",
    "labels = np.array(labels)\n",
    "\n",
    "# 將圖像數據進行訓練/測試集的劃分\n",
    "X_train, X_test, y_train, y_test = train_test_split(images, labels, test_size=0.2, random_state=42)\n",
    "\n",
    "# 正規化圖像數據\n",
    "X_train = X_train / 255.0\n",
    "X_test = X_test / 255.0"
   ]
  },
  {
   "cell_type": "code",
   "execution_count": null,
   "outputs": [],
   "source": [
    "# 建立CNN模型\n",
    "model = tf.keras.Sequential([\n",
    "    layers.Conv2D(32, (3, 3), activation='relu', input_shape=(image_height, image_width, 3)),\n",
    "    layers.MaxPooling2D((2, 2)),\n",
    "    layers.Conv2D(64, (3, 3), activation='relu'),\n",
    "    layers.MaxPooling2D((2, 2)),\n",
    "    layers.Flatten(),\n",
    "    layers.Dense(64, activation='relu'),\n",
    "    layers.Dense(3, activation='softmax')\n",
    "])"
   ],
   "metadata": {
    "collapsed": false
   }
  },
  {
   "cell_type": "code",
   "execution_count": null,
   "outputs": [],
   "source": [
    "# 編譯模型\n",
    "model.compile(optimizer='adam',\n",
    "              loss=tf.keras.losses.SparseCategoricalCrossentropy(),\n",
    "              metrics=['accuracy'])"
   ],
   "metadata": {
    "collapsed": false
   }
  },
  {
   "cell_type": "code",
   "execution_count": null,
   "outputs": [],
   "source": [
    "# 訓練模型\n",
    "model.fit(X_train, y_train, epochs=10, batch_size=32, validation_data=(X_test, y_test))"
   ],
   "metadata": {
    "collapsed": false
   }
  },
  {
   "cell_type": "code",
   "execution_count": null,
   "outputs": [],
   "source": [
    "# 假設你已經訓練完模型，並將其命名為model\n",
    "\n",
    "# 將模型保存到磁盤\n",
    "# model.save(r'C:\\Users\\B00\\Desktop\\for project\\CNN model')\n",
    "\n",
    "# 加載模型\n",
    "# loaded_model = tf.keras.models.load_model(r'C:\\Users\\B00\\Desktop\\for project\\CNN model')"
   ],
   "metadata": {
    "collapsed": false
   }
  }
 ],
 "metadata": {
  "kernelspec": {
   "display_name": "Python 3",
   "language": "python",
   "name": "python3"
  },
  "language_info": {
   "codemirror_mode": {
    "name": "ipython",
    "version": 2
   },
   "file_extension": ".py",
   "mimetype": "text/x-python",
   "name": "python",
   "nbconvert_exporter": "python",
   "pygments_lexer": "ipython2",
   "version": "2.7.6"
  }
 },
 "nbformat": 4,
 "nbformat_minor": 0
}
