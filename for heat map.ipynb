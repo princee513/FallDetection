{
 "cells": [
  {
   "cell_type": "code",
   "execution_count": 1,
   "id": "d26c9448",
   "metadata": {},
   "outputs": [],
   "source": [
    "import pickle\n",
    "import numpy as np\n",
    "from sklearn.model_selection import train_test_split\n",
    "from sklearn.ensemble import RandomForestClassifier\n",
    "from sklearn.metrics import accuracy_score\n",
    "import cv2"
   ]
  },
  {
   "cell_type": "code",
   "execution_count": 2,
   "id": "27af45e0",
   "metadata": {},
   "outputs": [],
   "source": [
    "# 讀取pickle文件\n",
    "with open(r\"C:\\Users\\B00\\Desktop\\for project\\節點資料\\keypoints_dict_nobodystand.pkl\", 'rb') as f:\n",
    "    keypoints_dict_nobodystand = pickle.load(f)"
   ]
  },
  {
   "cell_type": "code",
   "execution_count": 3,
   "id": "b6cf1cf6",
   "metadata": {},
   "outputs": [],
   "source": [
    "image_height = 192\n",
    "image_width  = 192\n",
    "# 初始化一個空的圖像，大小為 (image_height, image_width)，數據類型為 uint8\n",
    "# 這個圖像將被用來作為熱圖\n",
    "heatmap = np.zeros((image_height, image_width), dtype=np.uint8)\n",
    "\n",
    "for key, value in keypoints_dict_nobodystand.items():\n",
    "    # value 是一個形狀為 (1, 17, 3) 的 numpy 數組，我們需要將其轉換為 17 個 (x, y, confidence) 的元組\n",
    "    keypoints = value.reshape(-1, 3)\n",
    "    for x, y, confidence in keypoints:\n",
    "        # 在關鍵點的位置畫一個圓，顏色強度由信心分數決定\n",
    "        cv2.circle(heatmap, (int(x * image_width), int(y * image_height)), radius=5, color=int(255 * confidence), thickness=-1)\n",
    "\n",
    "\n",
    "# 現在你可以將熱圖作為你的 CNN 的輸入\n",
    "# 首先需要將熱圖的形狀從 (image_height, image_width) 改為 (1, image_height, image_width, 1)\n",
    "cnn_input = heatmap.reshape((1, image_height, image_width, 1))"
   ]
  },
  {
   "cell_type": "code",
   "execution_count": 4,
   "id": "0a39b7a0",
   "metadata": {},
   "outputs": [
    {
     "data": {
      "text/plain": [
       "True"
      ]
     },
     "execution_count": 4,
     "metadata": {},
     "output_type": "execute_result"
    }
   ],
   "source": [
    "cv2.imwrite(r'C:\\Users\\B00\\Desktop\\bodyImage\\heatmap\\heatmap5.jpg', heatmap)"
   ]
  },
  {
   "cell_type": "code",
   "execution_count": null,
   "id": "3d46fdc4",
   "metadata": {},
   "outputs": [],
   "source": []
  }
 ],
 "metadata": {
  "kernelspec": {
   "display_name": "Python 3 (ipykernel)",
   "language": "python",
   "name": "python3"
  },
  "language_info": {
   "codemirror_mode": {
    "name": "ipython",
    "version": 3
   },
   "file_extension": ".py",
   "mimetype": "text/x-python",
   "name": "python",
   "nbconvert_exporter": "python",
   "pygments_lexer": "ipython3",
   "version": "3.10.9"
  }
 },
 "nbformat": 4,
 "nbformat_minor": 5
}
