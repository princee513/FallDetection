{
 "cells": [
  {
   "cell_type": "code",
   "execution_count": 2,
   "metadata": {},
   "outputs": [],
   "source": [
    "import cv2\n",
    "import numpy as np\n",
    "import os\n",
    "from sklearn.model_selection import train_test_split\n",
    "import tensorflow as tf\n",
    "from tensorflow.keras import layers\n",
    "\n",
    "import tensorflow.keras\n",
    "from tensorflow.keras.models import Sequential\n",
    "from tensorflow.keras.layers import Conv2D, MaxPooling2D, Flatten, Dense\n",
    "\n",
    "# 定義圖像文件夾路徑\n",
    "image_folder = r'D:\\falldetection\\Common use\\bodyimage\\CNN'"
   ]
  },
  {
   "cell_type": "code",
   "execution_count": 2,
   "metadata": {},
   "outputs": [],
   "source": [
    "def preprocess_image(image):\n",
    "    # 調整圖像大小為指定尺寸\n",
    "    resized_image = cv2.resize(image, (192, 192))\n",
    "    # 正規化圖像像素值到 [0, 1] 範圍\n",
    "    normalized_image = resized_image / 255.0\n",
    "    return normalized_image"
   ]
  },
  {
   "cell_type": "code",
   "execution_count": 4,
   "metadata": {},
   "outputs": [],
   "source": [
    "image_height = 192\n",
    "image_width = 192\n",
    "# 初始化列表來存儲圖像數據和標籤\n",
    "images = []\n",
    "labels = []\n",
    "\n",
    "\n",
    "# 遍歷文件夾中的每張照片\n",
    "for label, class_name in enumerate(['stand', 'sit', 'lie']):\n",
    "    class_folder = os.path.join(image_folder, class_name)\n",
    "    for filename in os.listdir(class_folder):\n",
    "        if filename.endswith('.jpg') or filename.endswith('.png'):\n",
    "            # 讀取圖像\n",
    "            image_path = os.path.join(class_folder, filename)\n",
    "            image = cv2.imread(image_path)\n",
    "            \n",
    "            # 對圖像進行預處理，例如調整大小、歸一化等\n",
    "            processed_image = preprocess_image(image)\n",
    "            \n",
    "            # 將預處理後的圖像添加到列表中\n",
    "            images.append(processed_image)\n",
    "            \n",
    "            # 添加對應的標籤\n",
    "            labels.append(label)\n",
    "            \n",
    "# 將圖像列表轉換為numpy數組\n",
    "images = np.array(images)\n",
    "\n",
    "# 將標籤列表轉換為numpy數組\n",
    "labels = np.array(labels)\n",
    "\n",
    "# 將圖像數據進行訓練/測試集的劃分\n",
    "X_train, X_test, y_train, y_test = train_test_split(images, labels, test_size=0.3, random_state=42)\n",
    "\n",
    "# 正規化圖像數據\n",
    "X_train = X_train / 255.0\n",
    "X_test = X_test / 255.0\n"
   ]
  },
  {
   "cell_type": "code",
   "execution_count": 7,
   "metadata": {},
   "outputs": [],
   "source": [
    "import tensorflow.keras\n",
    "from tensorflow.keras.models import Sequential\n",
    "from tensorflow.keras.layers import Conv2D, MaxPooling2D, Flatten, Dense, Dropout\n",
    "\n",
    "# 建立CNN模型\n",
    "model = Sequential()\n",
    "\n",
    "# Add the convolutional layers\n",
    "model.add(Conv2D(32, (3, 3), activation='relu', input_shape=(image_height, image_width, 3)))\n",
    "model.add(MaxPooling2D((2, 2)))\n",
    "\n",
    "# Drop掉部分神經元避免overfitting\n",
    "model.add(Dropout(0.2))\n",
    "\n",
    "model.add(Conv2D(32, (3, 3), activation='relu'))\n",
    "model.add(MaxPooling2D((2, 2)))\n",
    "\n",
    "model.add(Dropout(0.2))\n",
    "\n",
    "model.add(Conv2D(32, (3, 3), activation='relu'))\n",
    "model.add(MaxPooling2D((2, 2)))\n",
    "\n",
    "model.add(Dropout(0.2))\n",
    "\n",
    "# Flatten the feature maps\n",
    "model.add(Flatten())\n",
    "\n",
    "# Add the fully connected layers\n",
    "model.add(Dense(64, activation='relu'))\n",
    "model.add(Dense(3, activation='softmax'))\n"
   ]
  },
  {
   "cell_type": "code",
   "execution_count": 8,
   "metadata": {},
   "outputs": [],
   "source": [
    "# 編譯模型 optimizer='adam'會自動調整 learning rate\n",
    "model.compile(optimizer='adam',\n",
    "              loss='sparse_categorical_crossentropy',\n",
    "              metrics=['accuracy'])"
   ]
  },
  {
   "cell_type": "code",
   "execution_count": 9,
   "metadata": {},
   "outputs": [
    {
     "name": "stdout",
     "output_type": "stream",
     "text": [
      "Epoch 1/20\n",
      "27/27 [==============================] - 18s 625ms/step - loss: 0.9800 - accuracy: 0.5313 - val_loss: 0.8964 - val_accuracy: 0.6056\n",
      "Epoch 2/20\n",
      "27/27 [==============================] - 20s 747ms/step - loss: 0.9164 - accuracy: 0.5436 - val_loss: 0.8912 - val_accuracy: 0.6056\n",
      "Epoch 3/20\n",
      "27/27 [==============================] - 21s 775ms/step - loss: 0.9219 - accuracy: 0.5454 - val_loss: 0.8831 - val_accuracy: 0.6056\n",
      "Epoch 4/20\n",
      "27/27 [==============================] - 21s 768ms/step - loss: 0.9402 - accuracy: 0.5417 - val_loss: 0.8832 - val_accuracy: 0.6056\n",
      "Epoch 5/20\n",
      "27/27 [==============================] - 21s 782ms/step - loss: 0.8554 - accuracy: 0.5936 - val_loss: 0.8787 - val_accuracy: 0.6056\n",
      "Epoch 6/20\n",
      "27/27 [==============================] - 21s 790ms/step - loss: 0.9439 - accuracy: 0.5429 - val_loss: 0.8437 - val_accuracy: 0.6056\n",
      "Epoch 7/20\n",
      "27/27 [==============================] - 22s 812ms/step - loss: 0.7954 - accuracy: 0.5713 - val_loss: 0.6249 - val_accuracy: 0.6778\n",
      "Epoch 8/20\n",
      "27/27 [==============================] - 21s 769ms/step - loss: 0.5382 - accuracy: 0.7304 - val_loss: 0.4560 - val_accuracy: 0.7528\n",
      "Epoch 9/20\n",
      "27/27 [==============================] - 21s 790ms/step - loss: 0.4141 - accuracy: 0.7863 - val_loss: 0.3994 - val_accuracy: 0.8306\n",
      "Epoch 10/20\n",
      "27/27 [==============================] - 22s 826ms/step - loss: 0.2778 - accuracy: 0.9020 - val_loss: 0.3457 - val_accuracy: 0.8556\n",
      "Epoch 11/20\n",
      "27/27 [==============================] - 21s 782ms/step - loss: 0.2593 - accuracy: 0.8959 - val_loss: 0.3119 - val_accuracy: 0.8833\n",
      "Epoch 12/20\n",
      "27/27 [==============================] - 22s 796ms/step - loss: 0.2160 - accuracy: 0.9274 - val_loss: 0.2565 - val_accuracy: 0.9056\n",
      "Epoch 13/20\n",
      "27/27 [==============================] - 21s 764ms/step - loss: 0.1776 - accuracy: 0.9508 - val_loss: 0.2194 - val_accuracy: 0.9194\n",
      "Epoch 14/20\n",
      "27/27 [==============================] - 21s 771ms/step - loss: 0.1202 - accuracy: 0.9668 - val_loss: 0.1411 - val_accuracy: 0.9333\n",
      "Epoch 15/20\n",
      "27/27 [==============================] - 22s 798ms/step - loss: 0.0763 - accuracy: 0.9785 - val_loss: 0.1293 - val_accuracy: 0.9583\n",
      "Epoch 16/20\n",
      "27/27 [==============================] - 21s 786ms/step - loss: 0.0626 - accuracy: 0.9839 - val_loss: 0.1126 - val_accuracy: 0.9667\n",
      "Epoch 17/20\n",
      "27/27 [==============================] - 21s 762ms/step - loss: 0.0445 - accuracy: 0.9836 - val_loss: 0.0847 - val_accuracy: 0.9806\n",
      "Epoch 18/20\n",
      "27/27 [==============================] - 22s 796ms/step - loss: 0.0275 - accuracy: 0.9941 - val_loss: 0.1685 - val_accuracy: 0.9500\n",
      "Epoch 19/20\n",
      "27/27 [==============================] - 24s 904ms/step - loss: 0.0296 - accuracy: 0.9932 - val_loss: 0.0989 - val_accuracy: 0.9722\n",
      "Epoch 20/20\n",
      "27/27 [==============================] - 23s 859ms/step - loss: 0.0224 - accuracy: 0.9915 - val_loss: 0.0475 - val_accuracy: 0.9917\n"
     ]
    }
   ],
   "source": [
    "# 訓練模型\n",
    "train_history = model.fit(X_train, y_train, epochs=20, batch_size=32, validation_data=(X_test, y_test))"
   ]
  },
  {
   "cell_type": "code",
   "execution_count": 10,
   "metadata": {},
   "outputs": [
    {
     "name": "stdout",
     "output_type": "stream",
     "text": [
      "INFO:tensorflow:Assets written to: D:\\falldetection\\trainedModelforCNN\\theFirst\\assets\n"
     ]
    }
   ],
   "source": [
    "# 儲存模型\n",
    "model.save(r'D:\\falldetection\\trainedModelforCNN\\theFirst')"
   ]
  },
  {
   "cell_type": "code",
   "execution_count": null,
   "metadata": {},
   "outputs": [],
   "source": []
  }
 ],
 "metadata": {
  "kernelspec": {
   "display_name": "Python 3",
   "language": "python",
   "name": "python3"
  },
  "language_info": {
   "codemirror_mode": {
    "name": "ipython",
    "version": 3
   },
   "file_extension": ".py",
   "mimetype": "text/x-python",
   "name": "python",
   "nbconvert_exporter": "python",
   "pygments_lexer": "ipython3",
   "version": "3.8.3"
  }
 },
 "nbformat": 4,
 "nbformat_minor": 4
}
