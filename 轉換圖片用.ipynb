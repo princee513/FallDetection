{
 "cells": [
  {
   "cell_type": "code",
   "execution_count": 3,
   "metadata": {},
   "outputs": [],
   "source": [
    "import cv2\n",
    "import numpy as np\n",
    "import os\n",
    "\n",
    "# 图像文件夹路径\n",
    "image_folder=r'D:\\falldetection\\bodyimage\\CNN\\stand'\n",
    "# 调整后的图像尺寸\n",
    "target_size = (192, 192)\n",
    "\n",
    "# 遍历图像文件夹中的每个图像文件\n",
    "for filename in os.listdir(image_folder):\n",
    "    if filename.endswith('.jpg') or filename.endswith('.png'):\n",
    "        # 读取图像\n",
    "        image_path = os.path.join(image_folder, filename)\n",
    "        image = cv2.imread(image_path)\n",
    "\n",
    "        # 调整图像大小\n",
    "        resized_image = cv2.resize(image, target_size)\n",
    "\n",
    "        # 转换为灰度图像\n",
    "          #gray_image = cv2.cvtColor(resized_image, cv2.COLOR_BGR2GRAY)\n",
    "\n",
    "        # 归一化像素值\n",
    "        normalized_image = resized_image.astype('float32') \n",
    "\n",
    "        # 应用其他的数据增强操作（如平移、旋转、翻转等）（可选）\n",
    "\n",
    "        # 保存预处理后的图像\n",
    "        preprocessed_image_path = os.path.join(r'D:\\falldetection\\bodyimage\\CNN\\stand', filename)\n",
    "        cv2.imwrite(preprocessed_image_path, normalized_image)\n",
    "\n",
    "        # 在这里可以添加代码来划分训练集和测试集\n",
    "\n",
    " "
   ]
  },
  {
   "cell_type": "code",
   "execution_count": null,
   "metadata": {},
   "outputs": [],
   "source": []
  }
 ],
 "metadata": {
  "kernelspec": {
   "display_name": "Python 3",
   "language": "python",
   "name": "python3"
  },
  "language_info": {
   "codemirror_mode": {
    "name": "ipython",
    "version": 3
   },
   "file_extension": ".py",
   "mimetype": "text/x-python",
   "name": "python",
   "nbconvert_exporter": "python",
   "pygments_lexer": "ipython3",
   "version": "3.8.3"
  }
 },
 "nbformat": 4,
 "nbformat_minor": 5
}
