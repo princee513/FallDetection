{
 "cells": [
  {
   "cell_type": "code",
   "execution_count": 5,
   "metadata": {
    "ExecuteTime": {
     "end_time": "2023-07-20T21:42:55.281845Z",
     "start_time": "2023-07-20T21:42:36.559077300Z"
    }
   },
   "outputs": [],
   "source": [
    "import cv2\n",
    "import numpy as np\n",
    "from tensorflow.keras.models import load_model"
   ]
  },
  {
   "cell_type": "code",
   "execution_count": 6,
   "metadata": {},
   "outputs": [],
   "source": [
    "# 載入模型\n",
    "model = load_model(r\"D:\\falldetection\\trainedModelforCNN\\theFirst\")"
   ]
  },
  {
   "cell_type": "code",
   "execution_count": 12,
   "metadata": {},
   "outputs": [
    {
     "name": "stdout",
     "output_type": "stream",
     "text": [
      "坐？？？\n"
     ]
    }
   ],
   "source": [
    "# 讀取圖片\n",
    "image_path = r\"D:\\falldetection\\Common use\\bodyimage\\IU1.jpg\"\n",
    "frame = cv2.imread(image_path)\n",
    "\n",
    "image_height = 192\n",
    "image_width  = 192\n",
    "\n",
    "# 調整幀的大小並正規化\n",
    "frame = cv2.resize(frame, (image_height, image_width))\n",
    "frame = frame / 255.0\n",
    "\n",
    "# 添加一個維度以匹配模型的輸入形狀\n",
    "frame = np.expand_dims(frame, axis=0)\n",
    "\n",
    "# 使用模型進行預測\n",
    "prediction = model.predict(frame)\n",
    "\n",
    "# 找出最可能的類別\n",
    "class_index = np.argmax(prediction)\n",
    "\n",
    "# 做出相應的處理，例如如果class_index表示\"跌倒\"，則發出警告\n",
    "if class_index == 0:\n",
    "    print(\"站！！！\")\n",
    "elif class_index == 1:\n",
    "    print(\"坐？？？\")\n",
    "elif class_index == 2:\n",
    "    print(\"躺.....\")\n"
   ]
  },
  {
   "cell_type": "code",
   "execution_count": null,
   "metadata": {},
   "outputs": [],
   "source": []
  }
 ],
 "metadata": {
  "kernelspec": {
   "display_name": "Python 3",
   "language": "python",
   "name": "python3"
  }
 },
 "nbformat": 4,
 "nbformat_minor": 1
}
